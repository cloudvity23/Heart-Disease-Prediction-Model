{
 "cells": [
  {
   "cell_type": "code",
   "execution_count": null,
   "id": "fefb4786-d074-4590-a174-e950772ad161",
   "metadata": {},
   "outputs": [
    {
     "name": "stdout",
     "output_type": "stream",
     "text": [
      "\n",
      "=== Heart Disease Prediction ===\n"
     ]
    }
   ],
   "source": [
    "import pandas as pd\n",
    "from sklearn.model_selection import train_test_split\n",
    "from sklearn.preprocessing import StandardScaler\n",
    "from sklearn.decomposition import PCA\n",
    "from sklearn.ensemble import RandomForestClassifier\n",
    "\n",
    "df = pd.read_csv(\"cleveland_heart.csv\")\n",
    "\n",
    "df.rename(columns={\n",
    "    'age': 'age',\n",
    "    'sex': 'sex',\n",
    "    'cp': 'chest_pain_type',\n",
    "    'trestbps': 'resting_bp',\n",
    "    'chol': 'cholesterol',\n",
    "    'fbs': 'fasting_bs',\n",
    "    'restecg': 'resting_ecg',\n",
    "    'thalach': 'max_hr',\n",
    "    'exang': 'exercise_angina',\n",
    "    'oldpeak': 'oldpeak',\n",
    "    'slope': 'st_slope',\n",
    "    'ca': 'ca',\n",
    "    'thal': 'thal',\n",
    "    'target': 'heart_disease'\n",
    "}, inplace=True)\n",
    "\n",
    "\n",
    "X = df.drop('heart_disease', axis=1)\n",
    "y = df['heart_disease']\n",
    "\n",
    "\n",
    "X_train, X_test, y_train, y_test = train_test_split(X, y, test_size=0.2, random_state=42)\n",
    "\n",
    "\n",
    "scaler = StandardScaler()\n",
    "X_train_scaled = scaler.fit_transform(X_train)\n",
    "X_test_scaled = scaler.transform(X_test)\n",
    "\n",
    "pca = PCA(n_components=13)\n",
    "X_train_pca = pca.fit_transform(X_train_scaled)\n",
    "X_test_pca = pca.transform(X_test_scaled)\n",
    "\n",
    "\n",
    "model = RandomForestClassifier(n_estimators=100, random_state=42)\n",
    "model.fit(X_train_pca, y_train)\n",
    "\n",
    "\n",
    "def predict_from_input():\n",
    "    print(\"\\n=== Heart Disease Prediction ===\")\n",
    "    \n",
    "    age = float(input(\"Age [e.g., 50]: \") or 50)\n",
    "    sex = int(input(\"Sex (1=Male, 0=Female) [e.g., 1]: \") or 1)\n",
    "    chest_pain_type = int(input(\"Chest Pain Type (0=TA, 1=ATA, 2=NAP, 3=ASY) [e.g., 0]: \") or 0)\n",
    "    resting_bp = float(input(\"Resting BP (mm Hg) [e.g., 120]: \") or 120)\n",
    "    cholesterol = float(input(\"Cholesterol (mg/dl) [e.g., 200]: \") or 200)\n",
    "    fasting_bs = int(input(\"Fasting Blood Sugar > 120 mg/dl? (1=Yes, 0=No) [e.g., 0]: \") or 0)\n",
    "    resting_ecg = int(input(\"Resting ECG (0=Normal, 1=ST, 2=LVH) [e.g., 0]: \") or 0)\n",
    "    max_hr = float(input(\"Max Heart Rate Achieved [e.g., 150]: \") or 150)\n",
    "    exercise_angina = int(input(\"Exercise Induced Angina? (1=Yes, 0=No) [e.g., 0]: \") or 0)\n",
    "    oldpeak = float(input(\"Oldpeak (ST depression) [e.g., 1.0]: \") or 1.0)\n",
    "    st_slope = int(input(\"ST Slope (0=Up, 1=Flat, 2=Down) [e.g., 0]: \") or 0)\n",
    "    ca = int(input(\"Number of major vessels (0-3) [e.g., 0]: \") or 0)\n",
    "    thal = int(input(\"Thal (0=Normal, 1=Fixed defect, 2=Reversible defect) [e.g., 0]: \") or 0)\n",
    "\n",
    "\n",
    "    user_data = pd.DataFrame([[age, sex, chest_pain_type, resting_bp, cholesterol,\n",
    "                                fasting_bs, resting_ecg, max_hr, exercise_angina,\n",
    "                                oldpeak, st_slope, ca, thal]],\n",
    "                              columns=X.columns)\n",
    "\n",
    "\n",
    "    user_scaled = scaler.transform(user_data)\n",
    "    user_pca = pca.transform(user_scaled)\n",
    "\n",
    "    # Predict\n",
    "    prediction = model.predict(user_pca)[0]\n",
    "    if prediction == 1:\n",
    "        print(\"\\n⚠ High risk of Heart Disease!\")\n",
    "    else:\n",
    "        print(\"\\n✅ No Heart Disease detected.\")\n",
    "\n",
    "\n",
    "\n",
    "predict_from_input()\n"
   ]
  },
  {
   "cell_type": "code",
   "execution_count": null,
   "id": "7e3b6851-a675-453c-9bd9-447da019329b",
   "metadata": {},
   "outputs": [],
   "source": []
  },
  {
   "cell_type": "code",
   "execution_count": null,
   "id": "ddf46898-4122-41f1-a1d8-762d6c043028",
   "metadata": {},
   "outputs": [],
   "source": [
    "12\n"
   ]
  }
 ],
 "metadata": {
  "kernelspec": {
   "display_name": "Python 3 (ipykernel)",
   "language": "python",
   "name": "python3"
  },
  "language_info": {
   "codemirror_mode": {
    "name": "ipython",
    "version": 3
   },
   "file_extension": ".py",
   "mimetype": "text/x-python",
   "name": "python",
   "nbconvert_exporter": "python",
   "pygments_lexer": "ipython3",
   "version": "3.13.5"
  }
 },
 "nbformat": 4,
 "nbformat_minor": 5
}
